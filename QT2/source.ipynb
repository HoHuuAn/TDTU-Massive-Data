{
  "cells": [
    {
      "cell_type": "code",
      "execution_count": null,
      "metadata": {
        "id": "2CbGL6Cxse8f"
      },
      "outputs": [],
      "source": [
        "!wget -q http://archive.apache.org/dist/spark/spark-3.1.1/spark-3.1.1-bin-hadoop3.2.tgz"
      ]
    },
    {
      "cell_type": "code",
      "execution_count": null,
      "metadata": {
        "id": "CjxG7DBMsfOt"
      },
      "outputs": [],
      "source": [
        "!tar xf spark-3.1.1-bin-hadoop3.2.tgz"
      ]
    },
    {
      "cell_type": "code",
      "execution_count": null,
      "metadata": {
        "id": "puU1Y4bNsgdW"
      },
      "outputs": [],
      "source": [
        "!apt-get install openjdk-8-jdk-headless -qq > /dev/null"
      ]
    },
    {
      "cell_type": "code",
      "execution_count": null,
      "metadata": {
        "id": "ydFhRbrBshiN"
      },
      "outputs": [],
      "source": [
        "!pip install -q findspark"
      ]
    },
    {
      "cell_type": "code",
      "execution_count": null,
      "metadata": {
        "id": "rYm_OLtYs5G9"
      },
      "outputs": [],
      "source": [
        "import os\n",
        "os.environ[\"JAVA_HOME\"] = \"/usr/lib/jvm/java-8-openjdk-amd64\"\n",
        "os.environ[\"SPARK_HOME\"] = \"/content/spark-3.1.1-bin-hadoop3.2\"\n",
        "import findspark as fs\n",
        "fs.init()"
      ]
    },
    {
      "cell_type": "code",
      "execution_count": 1,
      "metadata": {
        "colab": {
          "base_uri": "https://localhost:8080/"
        },
        "id": "dVpjzI5Y9jQt",
        "outputId": "c6c4556c-e5b6-428e-906f-65ad54b2394b"
      },
      "outputs": [
        {
          "name": "stdout",
          "output_type": "stream",
          "text": [
            "Mounted at /content/drive\n"
          ]
        }
      ],
      "source": [
        "from google.colab import drive\n",
        "drive.mount('/content/drive')"
      ]
    },
    {
      "cell_type": "code",
      "execution_count": 2,
      "metadata": {
        "id": "e1CagOyA9xwj"
      },
      "outputs": [],
      "source": [
        "dataset = \"/content/drive/MyDrive/Colab Notebooks/MMDS/QT2/WebOfScience-5736.txt\""
      ]
    },
    {
      "cell_type": "markdown",
      "metadata": {
        "id": "Q0I8wUvn1vzf"
      },
      "source": [
        "# `Task 1: In-memory MinHashLSH`"
      ]
    },
    {
      "cell_type": "code",
      "execution_count": 4,
      "metadata": {
        "id": "TF5ytCWO0c47"
      },
      "outputs": [],
      "source": [
        "import pandas as pd\n",
        "import numpy as np\n",
        "from random import shuffle"
      ]
    },
    {
      "cell_type": "code",
      "execution_count": 5,
      "metadata": {
        "id": "xZ8f99Wa0xUm"
      },
      "outputs": [],
      "source": [
        "class InMemoryMinHashLSH():\n",
        "    def __init__(self, documents: pd.DataFrame) :\n",
        "        self.documents = documents\n",
        "        self.shingle_size = 2\n",
        "        self.bool_vectors = None\n",
        "        self.num_hashes = 100\n",
        "        self.permutations = []\n",
        "        self.signatures = None\n",
        "        self.lsh_buckets = None\n",
        "        self.num_bands = 25\n",
        "        self.shingles_set = set()\n",
        "        self.similarity_threshold = 0.5\n",
        "\n",
        "    def shingling(self, documents : pd.DataFrame):\n",
        "        for doc in documents['text']:\n",
        "            for i in range(len(doc) - self.shingle_size + 1):\n",
        "                shingle = doc[i:i+self.shingle_size]\n",
        "                self.shingles_set.add(shingle)\n",
        "        bool_vectors = []\n",
        "        for doc in documents['text']:\n",
        "            document_vector = [1 if shingle in doc else 0 for shingle in self.shingles_set]\n",
        "            bool_vectors.append(document_vector)\n",
        "        return bool_vectors\n",
        "\n",
        "    def create_permutation(self, size):\n",
        "        permutation = list(range(1, size + 1))\n",
        "        shuffle(permutation)\n",
        "        return permutation\n",
        "\n",
        "    def minhash(self, bool_vector, permutation):\n",
        "        minhash_value = float('inf')\n",
        "        for idx, val in enumerate(bool_vector):\n",
        "            if val == 1:\n",
        "                minhash_value = min(minhash_value, permutation[idx])\n",
        "        return minhash_value\n",
        "\n",
        "    def minhashing(self,bool_vectors):\n",
        "        num_docs = len(bool_vectors)\n",
        "        num_features = len(bool_vectors[0])\n",
        "        signatures = np.zeros((self.num_hashes, num_docs),dtype=int)\n",
        "        for i in range(self.num_hashes):\n",
        "            if len(self.permutations) <= i:\n",
        "                self.permutations.append(self.create_permutation(num_features))\n",
        "            permutation = self.permutations[i]\n",
        "            # print(f\"Permutation {i+1}: {permutation}\")\n",
        "            for j in range(num_docs):\n",
        "                signatures[i, j] = self.minhash(self.bool_vectors[j], permutation)\n",
        "        return signatures\n",
        "\n",
        "    def jaccard_similarity(self,sequence1, sequence2):\n",
        "        intersection_count = 0\n",
        "        union_count = len(sequence1)\n",
        "        for elem1, elem2 in zip(sequence1, sequence2):\n",
        "            if elem1 == elem2:\n",
        "                intersection_count += 1\n",
        "        similarity = intersection_count / union_count\n",
        "        return similarity\n",
        "\n",
        "    def locality_sensity_hashing(self, signatures):\n",
        "        num_buckets = 102233\n",
        "        r = self.num_hashes // self.num_bands\n",
        "        num_docs = signatures.shape[1]\n",
        "        results = {}\n",
        "        for band in range(self.num_bands):\n",
        "            start_row = band * r\n",
        "            end_row = (band + 1) * r\n",
        "            for col in range(num_docs):\n",
        "                band_signature = signatures[start_row:end_row, col]\n",
        "                hash_value = hash(tuple(band_signature)) % num_buckets\n",
        "                signature_str = ''.join(map(str, band_signature))\n",
        "                signature_hash_str = f\"{signature_str}-{hash_value}\"\n",
        "                if col not in results:\n",
        "                    results[col] = []\n",
        "                results[col].append(signature_hash_str)\n",
        "        return results\n",
        "\n",
        "    def run(self):\n",
        "        self.bool_vectors = self.shingling(self.documents)\n",
        "        self.signatures = self.minhashing(self.bool_vectors)\n",
        "        self.lsh_buckets = self.locality_sensity_hashing(self.signatures)\n",
        "\n",
        "\n",
        "    def approxNearestNeighbors(self, key, n):\n",
        "        textqueried_df = pd.DataFrame({\"text\": [key]})\n",
        "        bool_vectors_queried=self.shingling(textqueried_df)\n",
        "        signature_queried = np.zeros((self.num_hashes, 1), dtype=int)\n",
        "        for i in range(self.num_hashes):\n",
        "            permutation = self.permutations[i]\n",
        "            signature_queried[i, 0] = self.minhash(bool_vectors_queried[0], permutation)\n",
        "        lsh_signature_queried = self.locality_sensity_hashing(signature_queried)\n",
        "        list_query_bucket_id = [item.split('-')[1] for item in [item for sublist in list(lsh_signature_queried.values()) for item in sublist]]\n",
        "        candidate_docs = []\n",
        "        for doc_id, lsh_signatures in self.lsh_buckets.items():\n",
        "            current_bucket_ids = [item.split('-')[1] for item in lsh_signatures]\n",
        "            if any(bucket_id in list_query_bucket_id for bucket_id in current_bucket_ids):\n",
        "                candidate_docs.append(doc_id)\n",
        "        similarities = []\n",
        "        for doc_id in candidate_docs:\n",
        "            signature_set_queried =  [item for sublist in signature_queried.T for item in sublist]\n",
        "            lsh_signature_existing= self.signatures.T[doc_id]\n",
        "            jaccard_similarity = self.jaccard_similarity(signature_set_queried, lsh_signature_existing)\n",
        "            if jaccard_similarity >= self.similarity_threshold:\n",
        "                similarities.append((doc_id, jaccard_similarity))\n",
        "        similarities.sort(key=lambda x: -x[1])\n",
        "        return similarities[:n]"
      ]
    },
    {
      "cell_type": "code",
      "execution_count": 20,
      "metadata": {
        "id": "yXwfpq-JDy92"
      },
      "outputs": [],
      "source": [
        "with open(dataset) as file:\n",
        "    lines = file.readlines()\n",
        "dataframes = pd.DataFrame(lines, columns=['text'])\n",
        "dataframes['text'] = dataframes['text'].str.strip()\n",
        "minhash_lsh = InMemoryMinHashLSH(dataframes)\n",
        "minhash_lsh.run()\n"
      ]
    },
    {
      "cell_type": "code",
      "execution_count": 7,
      "metadata": {
        "colab": {
          "base_uri": "https://localhost:8080/",
          "height": 206
        },
        "id": "pJ5UFOcpZoeO",
        "outputId": "e74a3a2b-eee2-418e-c38e-95a1e0fb322c"
      },
      "outputs": [
        {
          "data": {
            "application/vnd.google.colaboratory.intrinsic+json": {
              "summary": "{\n  \"name\": \"dataframes\",\n  \"rows\": 5736,\n  \"fields\": [\n    {\n      \"column\": \"text\",\n      \"properties\": {\n        \"dtype\": \"string\",\n        \"num_unique_values\": 5736,\n        \"samples\": [\n          \"We developed a 2.5x6.6 mm(2) 2-D array transducer with integrated transmit/receive application-specific integrated circuit (ASIC) for real-time 3-D intracardiac echocardiography (4-D ICE) applications. The ASIC and transducer design were optimized so that the high-voltage transmit, low-voltage time-gain control and preamp, subaperture beamformer, and digital control circuits for each transducer element all fit within the 0.019-mm(2) area of the element. The transducer assembly was deployed in a 10-Fr (3.3-mm diameter) catheter, integrated with a GE Vivid E9 ultrasound imaging system, and evaluated in three preclinical studies. The 2-D image quality and imaging modes were comparable to commercial 2-D ICE catheters. The 4-D field of view was at least 90 degrees x 60 degrees x 8 cm and could be imaged at 30 vol/s, sufficient to visualize cardiac anatomy and other diagnostic and therapy catheters. 4-D ICE should significantly reduce X-ray fluoroscopy use and dose during electrophysiology ablation procedures. 4-D ICE may be able to replace transesophageal echocardiography (TEE), and the associated risks and costs of general anesthesia, for guidance of some structural heart procedures.\",\n          \"Geotrichum candidum is a ubiquitous yeast and an essential component in the production of many soft cheeses. We developed a multilocus sequence typing (MLST) scheme with five retained loci (NUP116, URA1, URA3, SAPT4 and PLB3) which were sufficiently divergent to distinguish 40 sequence types (STs) among the 67G. candidum strains tested. Phylogenetic analyses defined five main clades; one clade was restricted to environmental isolates, three other clades included distinct environmental isolates and dairy strains, while the fifth clade comprised 34 strains (13 STs), among which all but two were isolated from milk, cheese or the dairy environment. These findings suggest an adaptation to the dairy ecosystems by a group of specialized European G. candidum strains. In addition, we developed a polymerase chain reaction inter-long terminal repeat scheme, a fast and reproducible random amplification of polymorphic DNA-like method for G. candidum, to type the closely related dairy strains, which could not be distinguished by MLST. Overall, our findings distinguished two types of dairy strains, one forming a homogeneous group with little genetic diversity, and the other more closely related to environmental isolates. Neither regional nor cheese specificity was observed in the dairy G. candidum strains analysed. This present study sheds light on the genetic diversity of both dairy and environmental strains of G. candidum and thus extends previous characterizations that have focused on the cheese isolates of this species. Copyright (c) 2016 John Wiley & Sons, Ltd.\",\n          \"Porcine rotavirus-A (PoRVA) is one of the common causes of mild to severe dehydrating diarrhea, leading to losses in weaning and postweaning piglets. A rapid, highly specific, and sensitive antigen-capture enzyme-linked immunosorbent assay (AC-ELISA) was developed for detection of PoRVA, by using VP6 (a highly conserved and antigenic protein of group-A rotavirus)-directed rabbit polyclonal antibodies (capture antibody) and murine monoclonal antibodies (detector antibody). The detection limit of AC-ELISA was found to be equal to that of conventional reverse transcription-polymerase chain reaction (RT-PCR; about 10(2.5) TCID50/mL). For validation of the in-house AC-ELISA, 295 porcine fecal/diarrhea samples, collected from different provinces of China, were evaluated and compared with conventional RT-PCR and TaqMan RT-quantitative PCR (qPCR). The sensitivity and specificity of this in-house AC-ELISA relative to RT-qPCR were found to be 91.67% and 100%, respectively, with the strong agreement (kappa = 0.972) between these two techniques. Total detection rate with AC-ELISA, conventional RT-PCR, and RT-qPCR were found to be 11.2%, 11.5%, and 12.2%, respectively, without any statistical significant difference. Moreover, AC-ELISA failed to detect any cross-reactivity with porcine epidemic diarrhea virus, transmissible gastroenteritis virus, pseudorabies virus, and porcine circovirus-2. These results suggested that our developed method was rapid, highly specific, and sensitive, which may help in large-scale surveillance, timely detection, and preventive control of rotavirus infection in porcine farms.\"\n        ],\n        \"semantic_type\": \"\",\n        \"description\": \"\"\n      }\n    }\n  ]\n}",
              "type": "dataframe",
              "variable_name": "dataframes"
            },
            "text/html": [
              "\n",
              "  <div id=\"df-ac1291e7-4dbb-4326-87e7-70e7acf2a72e\" class=\"colab-df-container\">\n",
              "    <div>\n",
              "<style scoped>\n",
              "    .dataframe tbody tr th:only-of-type {\n",
              "        vertical-align: middle;\n",
              "    }\n",
              "\n",
              "    .dataframe tbody tr th {\n",
              "        vertical-align: top;\n",
              "    }\n",
              "\n",
              "    .dataframe thead th {\n",
              "        text-align: right;\n",
              "    }\n",
              "</style>\n",
              "<table border=\"1\" class=\"dataframe\">\n",
              "  <thead>\n",
              "    <tr style=\"text-align: right;\">\n",
              "      <th></th>\n",
              "      <th>text</th>\n",
              "    </tr>\n",
              "  </thead>\n",
              "  <tbody>\n",
              "    <tr>\n",
              "      <th>0</th>\n",
              "      <td>Phytoplasmas are insect-vectored bacteria that...</td>\n",
              "    </tr>\n",
              "    <tr>\n",
              "      <th>1</th>\n",
              "      <td>Background: (-)-alpha-Bisabolol, also known as...</td>\n",
              "    </tr>\n",
              "    <tr>\n",
              "      <th>2</th>\n",
              "      <td>A universal feature of the replication of posi...</td>\n",
              "    </tr>\n",
              "    <tr>\n",
              "      <th>3</th>\n",
              "      <td>1,2-Dichloropropane (1,2-DCP) and dichlorometh...</td>\n",
              "    </tr>\n",
              "    <tr>\n",
              "      <th>4</th>\n",
              "      <td>This paper presents the simulation results of ...</td>\n",
              "    </tr>\n",
              "  </tbody>\n",
              "</table>\n",
              "</div>\n",
              "    <div class=\"colab-df-buttons\">\n",
              "\n",
              "  <div class=\"colab-df-container\">\n",
              "    <button class=\"colab-df-convert\" onclick=\"convertToInteractive('df-ac1291e7-4dbb-4326-87e7-70e7acf2a72e')\"\n",
              "            title=\"Convert this dataframe to an interactive table.\"\n",
              "            style=\"display:none;\">\n",
              "\n",
              "  <svg xmlns=\"http://www.w3.org/2000/svg\" height=\"24px\" viewBox=\"0 -960 960 960\">\n",
              "    <path d=\"M120-120v-720h720v720H120Zm60-500h600v-160H180v160Zm220 220h160v-160H400v160Zm0 220h160v-160H400v160ZM180-400h160v-160H180v160Zm440 0h160v-160H620v160ZM180-180h160v-160H180v160Zm440 0h160v-160H620v160Z\"/>\n",
              "  </svg>\n",
              "    </button>\n",
              "\n",
              "  <style>\n",
              "    .colab-df-container {\n",
              "      display:flex;\n",
              "      gap: 12px;\n",
              "    }\n",
              "\n",
              "    .colab-df-convert {\n",
              "      background-color: #E8F0FE;\n",
              "      border: none;\n",
              "      border-radius: 50%;\n",
              "      cursor: pointer;\n",
              "      display: none;\n",
              "      fill: #1967D2;\n",
              "      height: 32px;\n",
              "      padding: 0 0 0 0;\n",
              "      width: 32px;\n",
              "    }\n",
              "\n",
              "    .colab-df-convert:hover {\n",
              "      background-color: #E2EBFA;\n",
              "      box-shadow: 0px 1px 2px rgba(60, 64, 67, 0.3), 0px 1px 3px 1px rgba(60, 64, 67, 0.15);\n",
              "      fill: #174EA6;\n",
              "    }\n",
              "\n",
              "    .colab-df-buttons div {\n",
              "      margin-bottom: 4px;\n",
              "    }\n",
              "\n",
              "    [theme=dark] .colab-df-convert {\n",
              "      background-color: #3B4455;\n",
              "      fill: #D2E3FC;\n",
              "    }\n",
              "\n",
              "    [theme=dark] .colab-df-convert:hover {\n",
              "      background-color: #434B5C;\n",
              "      box-shadow: 0px 1px 3px 1px rgba(0, 0, 0, 0.15);\n",
              "      filter: drop-shadow(0px 1px 2px rgba(0, 0, 0, 0.3));\n",
              "      fill: #FFFFFF;\n",
              "    }\n",
              "  </style>\n",
              "\n",
              "    <script>\n",
              "      const buttonEl =\n",
              "        document.querySelector('#df-ac1291e7-4dbb-4326-87e7-70e7acf2a72e button.colab-df-convert');\n",
              "      buttonEl.style.display =\n",
              "        google.colab.kernel.accessAllowed ? 'block' : 'none';\n",
              "\n",
              "      async function convertToInteractive(key) {\n",
              "        const element = document.querySelector('#df-ac1291e7-4dbb-4326-87e7-70e7acf2a72e');\n",
              "        const dataTable =\n",
              "          await google.colab.kernel.invokeFunction('convertToInteractive',\n",
              "                                                    [key], {});\n",
              "        if (!dataTable) return;\n",
              "\n",
              "        const docLinkHtml = 'Like what you see? Visit the ' +\n",
              "          '<a target=\"_blank\" href=https://colab.research.google.com/notebooks/data_table.ipynb>data table notebook</a>'\n",
              "          + ' to learn more about interactive tables.';\n",
              "        element.innerHTML = '';\n",
              "        dataTable['output_type'] = 'display_data';\n",
              "        await google.colab.output.renderOutput(dataTable, element);\n",
              "        const docLink = document.createElement('div');\n",
              "        docLink.innerHTML = docLinkHtml;\n",
              "        element.appendChild(docLink);\n",
              "      }\n",
              "    </script>\n",
              "  </div>\n",
              "\n",
              "\n",
              "<div id=\"df-c0c15981-0531-47dc-b79e-e4cb7a980810\">\n",
              "  <button class=\"colab-df-quickchart\" onclick=\"quickchart('df-c0c15981-0531-47dc-b79e-e4cb7a980810')\"\n",
              "            title=\"Suggest charts\"\n",
              "            style=\"display:none;\">\n",
              "\n",
              "<svg xmlns=\"http://www.w3.org/2000/svg\" height=\"24px\"viewBox=\"0 0 24 24\"\n",
              "     width=\"24px\">\n",
              "    <g>\n",
              "        <path d=\"M19 3H5c-1.1 0-2 .9-2 2v14c0 1.1.9 2 2 2h14c1.1 0 2-.9 2-2V5c0-1.1-.9-2-2-2zM9 17H7v-7h2v7zm4 0h-2V7h2v10zm4 0h-2v-4h2v4z\"/>\n",
              "    </g>\n",
              "</svg>\n",
              "  </button>\n",
              "\n",
              "<style>\n",
              "  .colab-df-quickchart {\n",
              "      --bg-color: #E8F0FE;\n",
              "      --fill-color: #1967D2;\n",
              "      --hover-bg-color: #E2EBFA;\n",
              "      --hover-fill-color: #174EA6;\n",
              "      --disabled-fill-color: #AAA;\n",
              "      --disabled-bg-color: #DDD;\n",
              "  }\n",
              "\n",
              "  [theme=dark] .colab-df-quickchart {\n",
              "      --bg-color: #3B4455;\n",
              "      --fill-color: #D2E3FC;\n",
              "      --hover-bg-color: #434B5C;\n",
              "      --hover-fill-color: #FFFFFF;\n",
              "      --disabled-bg-color: #3B4455;\n",
              "      --disabled-fill-color: #666;\n",
              "  }\n",
              "\n",
              "  .colab-df-quickchart {\n",
              "    background-color: var(--bg-color);\n",
              "    border: none;\n",
              "    border-radius: 50%;\n",
              "    cursor: pointer;\n",
              "    display: none;\n",
              "    fill: var(--fill-color);\n",
              "    height: 32px;\n",
              "    padding: 0;\n",
              "    width: 32px;\n",
              "  }\n",
              "\n",
              "  .colab-df-quickchart:hover {\n",
              "    background-color: var(--hover-bg-color);\n",
              "    box-shadow: 0 1px 2px rgba(60, 64, 67, 0.3), 0 1px 3px 1px rgba(60, 64, 67, 0.15);\n",
              "    fill: var(--button-hover-fill-color);\n",
              "  }\n",
              "\n",
              "  .colab-df-quickchart-complete:disabled,\n",
              "  .colab-df-quickchart-complete:disabled:hover {\n",
              "    background-color: var(--disabled-bg-color);\n",
              "    fill: var(--disabled-fill-color);\n",
              "    box-shadow: none;\n",
              "  }\n",
              "\n",
              "  .colab-df-spinner {\n",
              "    border: 2px solid var(--fill-color);\n",
              "    border-color: transparent;\n",
              "    border-bottom-color: var(--fill-color);\n",
              "    animation:\n",
              "      spin 1s steps(1) infinite;\n",
              "  }\n",
              "\n",
              "  @keyframes spin {\n",
              "    0% {\n",
              "      border-color: transparent;\n",
              "      border-bottom-color: var(--fill-color);\n",
              "      border-left-color: var(--fill-color);\n",
              "    }\n",
              "    20% {\n",
              "      border-color: transparent;\n",
              "      border-left-color: var(--fill-color);\n",
              "      border-top-color: var(--fill-color);\n",
              "    }\n",
              "    30% {\n",
              "      border-color: transparent;\n",
              "      border-left-color: var(--fill-color);\n",
              "      border-top-color: var(--fill-color);\n",
              "      border-right-color: var(--fill-color);\n",
              "    }\n",
              "    40% {\n",
              "      border-color: transparent;\n",
              "      border-right-color: var(--fill-color);\n",
              "      border-top-color: var(--fill-color);\n",
              "    }\n",
              "    60% {\n",
              "      border-color: transparent;\n",
              "      border-right-color: var(--fill-color);\n",
              "    }\n",
              "    80% {\n",
              "      border-color: transparent;\n",
              "      border-right-color: var(--fill-color);\n",
              "      border-bottom-color: var(--fill-color);\n",
              "    }\n",
              "    90% {\n",
              "      border-color: transparent;\n",
              "      border-bottom-color: var(--fill-color);\n",
              "    }\n",
              "  }\n",
              "</style>\n",
              "\n",
              "  <script>\n",
              "    async function quickchart(key) {\n",
              "      const quickchartButtonEl =\n",
              "        document.querySelector('#' + key + ' button');\n",
              "      quickchartButtonEl.disabled = true;  // To prevent multiple clicks.\n",
              "      quickchartButtonEl.classList.add('colab-df-spinner');\n",
              "      try {\n",
              "        const charts = await google.colab.kernel.invokeFunction(\n",
              "            'suggestCharts', [key], {});\n",
              "      } catch (error) {\n",
              "        console.error('Error during call to suggestCharts:', error);\n",
              "      }\n",
              "      quickchartButtonEl.classList.remove('colab-df-spinner');\n",
              "      quickchartButtonEl.classList.add('colab-df-quickchart-complete');\n",
              "    }\n",
              "    (() => {\n",
              "      let quickchartButtonEl =\n",
              "        document.querySelector('#df-c0c15981-0531-47dc-b79e-e4cb7a980810 button');\n",
              "      quickchartButtonEl.style.display =\n",
              "        google.colab.kernel.accessAllowed ? 'block' : 'none';\n",
              "    })();\n",
              "  </script>\n",
              "</div>\n",
              "    </div>\n",
              "  </div>\n"
            ],
            "text/plain": [
              "                                                text\n",
              "0  Phytoplasmas are insect-vectored bacteria that...\n",
              "1  Background: (-)-alpha-Bisabolol, also known as...\n",
              "2  A universal feature of the replication of posi...\n",
              "3  1,2-Dichloropropane (1,2-DCP) and dichlorometh...\n",
              "4  This paper presents the simulation results of ..."
            ]
          },
          "execution_count": 7,
          "metadata": {},
          "output_type": "execute_result"
        }
      ],
      "source": [
        "dataframes.head()"
      ]
    },
    {
      "cell_type": "code",
      "execution_count": 13,
      "metadata": {
        "colab": {
          "base_uri": "https://localhost:8080/"
        },
        "id": "9TmRt0M3_32b",
        "outputId": "dd1271c5-fdee-4347-a85b-ecbbd3e1402d"
      },
      "outputs": [
        {
          "name": "stdout",
          "output_type": "stream",
          "text": [
            "[(5720, 1.0), (3741, 0.67), (4104, 0.67)]\n"
          ]
        }
      ],
      "source": [
        "query = \"Many recent publications highlight the large role of the pivotal eukaryotic nuclear export protein exportin-1 (XPO1) in the oncogenesis of several malignancies, and there is emerging evidence that XPO1 inhibition is a key target against cancer. The clinical validation of the pharmacological inhibition of XPO1 was recently achieved with the development of the selective inhibitor of nuclear export compounds, displaying an interesting anti-tumor activity in patients with massive pre-treated hematological malignancies. Recent reports have shown molecular alterations in the gene encoding XPO1 and showed a mutation hotspot (E571K) in the following two hematological malignancies with similar phenotypes and natural histories: primary mediastinal diffuse large B cell lymphoma and classical Hodgkin's lymphoma. Emerging evidence suggests that the mutant XPO1 E571K plays a role in carcinogenesis, and this variant is quantifiable in tumor and plasma cell-free DNA of patients using highly sensitive molecular biology techniques, such as digital PCR and next-generation sequencing. Therefore, it was proposed that the XPO1 E571K variant may serve as a minimal residual disease tool in this setting. To clarify and summarize the recent findings on the role of XPO1 in B cell hematological malignancies, we conducted a literature search to present the major publications establishing the landscape of XPO1 molecular alterations, their impact on the XPO1 protein, their interest as biomarkers, and investigations into the development of new XPO1-targeted therapies in B cell hematological malignancies.\"\n",
        "n = 3 # số lượng tài liệu tương tự\n",
        "document_similarity = minhash_lsh.approxNearestNeighbors(query, 3) #5720\n",
        "print(document_similarity)"
      ]
    },
    {
      "cell_type": "code",
      "execution_count": 21,
      "metadata": {
        "colab": {
          "base_uri": "https://localhost:8080/"
        },
        "id": "UPi8VY_hQ08E",
        "outputId": "aa65246c-a761-4118-e773-8415f0f2a264"
      },
      "outputs": [
        {
          "name": "stdout",
          "output_type": "stream",
          "text": [
            "[(1, 0.88), (20, 0.65), (2479, 0.64)]\n"
          ]
        }
      ],
      "source": [
        "query_1 = \"Background: (-)-alpha-Bisabolol, also known as levomenol, is an unsaturated sesquiterpene alcohol that has mainly been used in pharmaceutical and cosmetic products due to its anti-inflammatory and skin-soothing properties. (-)-alpha-Bisabolol is currently manufactured mainly by steam-distillation of the essential oils extracted from the Brazilian candeia tree that is under threat because its natural habitat is constantly shrinking. Therefore, microbial production of (-)-alpha-bisabolol plays a key role in the development of its sustainable production from renewable feedstock. Results: Here, we created an Escherichia coli strain producing (-)-alpha-bisabolol at high titer and developed an in situ extraction method of (-)-alpha-bisabolol, using natural vegetable oils. We expressed a recently identified (-)-alpha-bisabolol synthase isolated from German chamomile (Matricaria recutita) (titer: 3 mg/L), converted the acetyl-CoA to mevalonate, using the biosynthetic mevalonate pathway (12.8 mg/L), and overexpressed farnesyl diphosphate synthase to efficiently supply the (-)-alpha-bisabolol precursor farnesyl diphosphate. Combinatorial expression of the exogenous mevalonate pathway and farnesyl diphosphate synthase enabled a dramatic increase in (-)-alpha-bisabolol production in the shake flask culture (80 mg/L) and 5 L bioreactor culture (342 mg/L) of engineered E. coli harboring (-)-alpha-bisabolol synthase. Fed-batch fermentation using a 50 L fermenter was conducted after optimizing culture conditions, resulting in efficient (-)-alpha-bisabolol production with a titer of 9.1 g/L. Moreover, a green, downstream extraction process using vegetable oils was developed for in situ extraction of (-)-alpha-bisabolol during fermentation and showed high yield recovery (>98%). Conclusions: The engineered E. coli strains and economically viable extraction process developed in this study will serve as promising platforms for further development of microbial production of (-)-alpha-bisabolol at large scale.\"\n",
        "query_20 = \"3D printing has shown promise for neural regeneration by providing customized nerve scaffolds to structurally support and bridge the defect gap as well as deliver cells or various bioactive substances. Low-level light therapy (LLLT) exhibits positive effects on rehabiliation of degenerative nerves and neural disorders. With this in mind, we postulate that 3D printed neural scaffold coupling with LLLT will generate a new strategy to repair neural degeneration. To achieve this goal, we applied red laser light to stimualte neural stem cells on 3D printed scaffolds and investigated the subsequent cell response with respect to cell proliferation and differentiation. Here we show that cell prolifeartion rate and intracellular reactive oxgen species synthesis were significantly increased after 15 s laser stimulation follwed by 1 d culture. Over culturing time of 14 d in vitro, the laser stimulation promoted neuronal differentiation of neural stem cells, while the glial differentiation was suppressed based on results of both immunocytochemistry studies and real-time quantitative reverse transcription polymerase chain reaction testing. These findings suggest that integration of 3D printing and LLLT might provide a powerful methodology for neural tissue engineering.\"\n",
        "query = query_1+query_20\n",
        "n = 5 # số lượng tài liệu tương tự\n",
        "document_similarity = minhash_lsh.approxNearestNeighbors(query, 3) #1,20\n",
        "print(document_similarity)"
      ]
    },
    {
      "cell_type": "markdown",
      "metadata": {
        "id": "3yO-DPK9187m"
      },
      "source": [
        "# `Task 2: LargDataMinHashLSH`"
      ]
    },
    {
      "cell_type": "code",
      "execution_count": null,
      "metadata": {
        "id": "7sVGrScDs_62"
      },
      "outputs": [],
      "source": [
        "from pyspark.sql import SparkSession\n",
        "from pyspark.sql.functions import expr, explode, collect_set, array, col, udf, lit, collect_list, concat, desc, row_number, split, \\\n",
        "                                    array_intersect, monotonically_increasing_id, max as spark_max, min as spark_min\n",
        "from pyspark.sql import DataFrame\n",
        "from pyspark.sql.types import  ArrayType, StringType, BooleanType, IntegerType, FloatType\n",
        "from pyspark.sql.window import Window\n",
        "import random"
      ]
    },
    {
      "cell_type": "code",
      "execution_count": null,
      "metadata": {
        "id": "9llF-DsYtCzV"
      },
      "outputs": [],
      "source": [
        "spark = SparkSession.builder \\\n",
        "    .appName(\"QT2\") \\\n",
        "    .getOrCreate()"
      ]
    },
    {
      "cell_type": "code",
      "execution_count": null,
      "metadata": {
        "id": "ePeOmUsA1lHx"
      },
      "outputs": [],
      "source": [
        "class LargDataMinHashLSH():\n",
        "    def __init__(self, documents: DataFrame, shingles_size = 3, num_hashes = 100, num_bands = 50, num_buckets = 1024, similarity_threshold = 0.6 ):\n",
        "        self.documents = documents\n",
        "        self.shingles_size = shingles_size\n",
        "        self.shingles_vector = None\n",
        "        self.shingles = None\n",
        "        self.bool_vectors = None\n",
        "        self.num_hashes = num_hashes\n",
        "        self.signature_matrix = None\n",
        "        self.buckets = None\n",
        "        self.num_bands = num_bands\n",
        "        self.num_buckets = num_buckets\n",
        "        self.similarity_threshold = similarity_threshold\n",
        "        self.lsh = None\n",
        "        self.indexed_df =  None\n",
        "\n",
        "    def shingling(self, documents: DataFrame):\n",
        "        shingles_size = self.shingles_size\n",
        "        shingling_udf = udf(lambda text: [text[i:i+shingles_size] for i in range(len(text)-shingles_size+1)], ArrayType(StringType()))\n",
        "        shingles_vector = documents.withColumn(\"shingles\", shingling_udf(col(\"document\"))).cache()\n",
        "\n",
        "        shingles = shingles_vector.select(explode(\"shingles\") \\\n",
        "                                            .alias(\"shingle\")).groupBy() \\\n",
        "                                            .agg( collect_set(\"shingle\") \\\n",
        "                                            .alias(\"vocab\")).collect()[0][\"vocab\"]\n",
        "        shingles_vector.unpersist()\n",
        "        return shingles\n",
        "\n",
        "    def bool_vector(self, documents: DataFrame, shingles):\n",
        "        bool_vectors_udf = udf(lambda text: [True if shingle in text else False for shingle in shingles] , ArrayType(BooleanType()))\n",
        "        return documents.withColumn(\"bool_vector\", bool_vectors_udf(col(\"document\")))\n",
        "\n",
        "    def minhashing(self, bool_vectors):\n",
        "        shingles = self.shingles\n",
        "        num_shingles = len(shingles)\n",
        "        num_hashes = self.num_hashes\n",
        "        def random_permutation():\n",
        "            return random.sample(range(1, num_shingles+1), num_shingles)\n",
        "        permutations = [random_permutation() for _ in range(num_hashes)]\n",
        "\n",
        "        def minhash_udf(bool_vector, permutations):\n",
        "            min_hashes = []\n",
        "            for permutation in permutations:\n",
        "                hashed_vector = [permutation[idx] for idx, present in enumerate(bool_vector) if present]\n",
        "                if hashed_vector:\n",
        "                    min_hash = min(hashed_vector)\n",
        "                else:\n",
        "                    min_hash = float('inf')\n",
        "                min_hashes.append(min_hash)\n",
        "            return min_hashes\n",
        "\n",
        "        udf_minhash = udf(lambda bool_vector: minhash_udf(bool_vector, permutations) , ArrayType(IntegerType()))\n",
        "        signature_matrix = bool_vectors.withColumn(\"signature\", udf_minhash(col(\"bool_vector\")))\n",
        "        return signature_matrix\n",
        "\n",
        "    def locality_sensity_hashing(self, signatures):\n",
        "        num_bands = self.num_bands\n",
        "        num_buckets = self.num_buckets\n",
        "\n",
        "        def hash_band(band):\n",
        "            band_hash = hash(tuple(band)) % num_buckets\n",
        "            return f\"{band}-{band_hash}\"\n",
        "\n",
        "        def split_vector(signature):\n",
        "            sub_vecs = []\n",
        "            r = int(len(signature) / num_bands)\n",
        "            for i in range(0, len(signature), r):\n",
        "                sub_vecs.append(signature[i: i+r])\n",
        "            return sub_vecs\n",
        "\n",
        "        def hashing_signature(signature):\n",
        "            hashes_value = []\n",
        "            sub_vecs = split_vector(signature)\n",
        "            for sub in sub_vecs:\n",
        "                hash_value = hash_band(sub)\n",
        "                hashes_value.append(hash_value)\n",
        "            return hashes_value\n",
        "\n",
        "\n",
        "        hashing_signature_udf  = udf(lambda signature: hashing_signature(signature), ArrayType(StringType()))\n",
        "        hashed_value = signatures.withColumn(\"hashed_value\", hashing_signature_udf(col(\"signature\")))\n",
        "\n",
        "        hashed_value = hashed_value.withColumn(\"temp_order\", lit(1))\n",
        "        indexed_df = hashed_value.withColumn(\"document_index\", row_number().over(Window.orderBy(\"temp_order\"))).drop(\"temp_order\")\n",
        "\n",
        "        results = indexed_df.select(explode(col(\"hashed_value\")).alias(\"hashed_value\"), (\"document_index\"))\n",
        "\n",
        "        return results, indexed_df\n",
        "\n",
        "    def run(self):\n",
        "        self.shingles = self.shingling(self.documents)\n",
        "        self.bool_vectors = self.bool_vector(self.documents, self.shingles)\n",
        "        self.signature_matrix = self.minhashing(self.bool_vectors)\n",
        "        self.lsh, self.indexed_df = self.locality_sensity_hashing(self.signature_matrix)\n",
        "\n",
        "    def approxNearestNeighbors(self, key, n):\n",
        "        query_document = spark.createDataFrame([(key,)], ['document'])\n",
        "        docs = self.documents.union(query_document)\n",
        "        shingles = self.shingling(docs)\n",
        "        bool_vector = self.bool_vector(docs, shingles)\n",
        "        signature_matrix = self.minhashing(bool_vector)\n",
        "        lsh, indexed_df = self.locality_sensity_hashing(signature_matrix)\n",
        "\n",
        "        max_document_index = indexed_df.selectExpr(\"max(document_index)\").first()[0]\n",
        "\n",
        "        lsh_query = lsh.filter(col(\"document_index\") == max_document_index)\n",
        "        indexed_df_query = indexed_df.filter(col(\"document_index\") == max_document_index)\n",
        "\n",
        "        lsh = lsh.filter(col(\"document_index\") != max_document_index)\n",
        "        indexed_df = indexed_df.filter(col(\"document_index\") != max_document_index)\n",
        "\n",
        "        similar_doc = lsh.alias(\"lsh\").join(\n",
        "                    lsh_query.alias(\"lsh_query\"),\n",
        "                    col(\"lsh.hashed_value\") == col(\"lsh_query.hashed_value\"),\n",
        "                    \"inner\"\n",
        "                ).select(col(\"lsh.document_index\")).distinct()\n",
        "\n",
        "        def jaccard_similarity(sequence1, sequence2):\n",
        "            intersection_count = 0\n",
        "            union_count = len(sequence1)\n",
        "\n",
        "            for elem1, elem2 in zip(sequence1, sequence2):\n",
        "                if elem1 == elem2:\n",
        "                    intersection_count += 1\n",
        "\n",
        "            similarity = intersection_count / union_count\n",
        "            return similarity\n",
        "\n",
        "        jaccard_udf = udf(jaccard_similarity, FloatType())\n",
        "\n",
        "        similarity_threshold = self.similarity_threshold\n",
        "        \n",
        "        indexed_df = indexed_df.alias(\"indexed_df\").join(\n",
        "                similar_doc.alias(\"similar_doc\"),\n",
        "                col(\"indexed_df.document_index\") == col(\"similar_doc.document_index\"),\n",
        "                \"left\"\n",
        "            ).filter(col(\"similar_doc.document_index\").isNotNull()).drop(\"similar_doc\")\n",
        "\n",
        "        df_with_similarity = indexed_df.crossJoin(indexed_df_query.select(col(\"signature\").alias(\"signature_query\"))) \\\n",
        "                            .withColumn(\"jaccard_similarity\",\n",
        "                                        jaccard_udf(col(\"signature\"),\n",
        "                                        col(\"signature_query\"))) \\\n",
        "                            .select(\"document\", \"jaccard_similarity\") \\\n",
        "                            .filter(col(\"jaccard_similarity\") >= similarity_threshold) \\\n",
        "                            .orderBy(desc(\"jaccard_similarity\")) \\\n",
        "                            .limit(n)\n",
        "        df_with_similarity.show()\n",
        "        return df_with_similarity"
      ]
    },
    {
      "cell_type": "markdown",
      "metadata": {
        "id": "U_FfgrN377v0"
      },
      "source": [
        "## Test"
      ]
    },
    {
      "cell_type": "code",
      "execution_count": null,
      "metadata": {
        "id": "s62SIEZd5GZe"
      },
      "outputs": [],
      "source": [
        "documents = spark.read.text(dataset).withColumnRenamed(\"value\", \"document\")"
      ]
    },
    {
      "cell_type": "code",
      "execution_count": null,
      "metadata": {
        "colab": {
          "base_uri": "https://localhost:8080/"
        },
        "id": "9Lcn20ZC5KoG",
        "outputId": "7c992461-fb34-4ebd-dde7-2378aad57ce1"
      },
      "outputs": [
        {
          "name": "stdout",
          "output_type": "stream",
          "text": [
            "+------------------------------------------------------------------------------------------------------------------------------------------------------------------------------------------------------------------------------------------------------------------------------------------------------------------------------------------------------------------------------------------------------------------------------------------------------------------------------------------------------------------------------------------------------------------------------------------------------------------------------------------------------------------------------------------------------------------------------------------------------------------------------------------------------------------------------------------------------------------------------------------------------------------------------------------------------------------------------------------------------------------------------------------------------------------------------------------------------------------------------------------------------------------------------------------------------------------------------------------------------------------------------------------------------------------------------------------------------------------------------------------------------------------------------------------------------------------------------------------------------------------------------------------------------------------------------------------------------------------------------------------------------------------------------------------------------------------------------------------------------------------------------------------------------------------------------------------------------------------------------------------------------------------------------------------------------------------------------------------------------------------------------------------------------------------------------------------------------+\n",
            "|document                                                                                                                                                                                                                                                                                                                                                                                                                                                                                                                                                                                                                                                                                                                                                                                                                                                                                                                                                                                                                                                                                                                                                                                                                                                                                                                                                                                                                                                                                                                                                                                                                                                                                                                                                                                                                                                                                                                                                                                                                                                                                              |\n",
            "+------------------------------------------------------------------------------------------------------------------------------------------------------------------------------------------------------------------------------------------------------------------------------------------------------------------------------------------------------------------------------------------------------------------------------------------------------------------------------------------------------------------------------------------------------------------------------------------------------------------------------------------------------------------------------------------------------------------------------------------------------------------------------------------------------------------------------------------------------------------------------------------------------------------------------------------------------------------------------------------------------------------------------------------------------------------------------------------------------------------------------------------------------------------------------------------------------------------------------------------------------------------------------------------------------------------------------------------------------------------------------------------------------------------------------------------------------------------------------------------------------------------------------------------------------------------------------------------------------------------------------------------------------------------------------------------------------------------------------------------------------------------------------------------------------------------------------------------------------------------------------------------------------------------------------------------------------------------------------------------------------------------------------------------------------------------------------------------------------+\n",
            "|Phytoplasmas are insect-vectored bacteria that cause disease in a wide range of plant species. The increasing availability of molecular DNA analyses, expertise and additional methods in recent years has led to a proliferation of discoveries of phytoplasma-plant host associations and in the numbers of taxonomic groupings for phytoplasmas. The widespread use of common names based on the diseases with which they are associated, as well as separate phenetic and taxonomic systems for classifying phytoplasmas based on variation at the 16S rRNA-encoding gene, complicates interpretation of the literature. We explore this issue and related trends through a focus on Australian pathosystems, providing the first comprehensive compilation of information for this continent, covering the phytoplasmas, host plants, vectors and diseases. Of the 33 16Sr groups reported internationally, only groups I, II, III, X, XI and XII have been recorded in Australia and this highlights the need for ongoing biosecurity measures to prevent the introduction of additional pathogen groups. Many of the phytoplasmas reported in Australia have not been sufficiently well studied to assign them to 16Sr groups so it is likely that unrecognized groups and sub-groups are present. Wide host plant ranges are apparent among well studied phytoplasmas, with multiple crop and non-crop species infected by some. Disease management is further complicated by the fact that putative vectors have been identified for few phytoplasmas, especially in Australia. Despite rapid progress in recent years using molecular approaches, phytoplasmas remain the least well studied group of plant pathogens, making them a \"crouching tiger\" disease threat.                                                                                                                                                                                                                                                                                                                      |\n",
            "|Background: (-)-alpha-Bisabolol, also known as levomenol, is an unsaturated sesquiterpene alcohol that has mainly been used in pharmaceutical and cosmetic products due to its anti-inflammatory and skin-soothing properties. (-)-alpha-Bisabolol is currently manufactured mainly by steam-distillation of the essential oils extracted from the Brazilian candeia tree that is under threat because its natural habitat is constantly shrinking. Therefore, microbial production of (-)-alpha-bisabolol plays a key role in the development of its sustainable production from renewable feedstock. Results: Here, we created an Escherichia coli strain producing (-)-alpha-bisabolol at high titer and developed an in situ extraction method of (-)-alpha-bisabolol, using natural vegetable oils. We expressed a recently identified (-)-alpha-bisabolol synthase isolated from German chamomile (Matricaria recutita) (titer: 3 mg/L), converted the acetyl-CoA to mevalonate, using the biosynthetic mevalonate pathway (12.8 mg/L), and overexpressed farnesyl diphosphate synthase to efficiently supply the (-)-alpha-bisabolol precursor farnesyl diphosphate. Combinatorial expression of the exogenous mevalonate pathway and farnesyl diphosphate synthase enabled a dramatic increase in (-)-alpha-bisabolol production in the shake flask culture (80 mg/L) and 5 L bioreactor culture (342 mg/L) of engineered E. coli harboring (-)-alpha-bisabolol synthase. Fed-batch fermentation using a 50 L fermenter was conducted after optimizing culture conditions, resulting in efficient (-)-alpha-bisabolol production with a titer of 9.1 g/L. Moreover, a green, downstream extraction process using vegetable oils was developed for in situ extraction of (-)-alpha-bisabolol during fermentation and showed high yield recovery (>98%). Conclusions: The engineered E. coli strains and economically viable extraction process developed in this study will serve as promising platforms for further development of microbial production of (-)-alpha-bisabolol at large scale.|\n",
            "|A universal feature of the replication of positive-strand RNA viruses is the association with intracellular membranes. Carnation Italian ringspot virus (CIRV) replication in plants occurs in vesicles derived from the mitochondrial outer membrane. The product encoded by CIRV ORF1, p36, is required for targeting the virus replication complex to the outer mitochondrial membrane both in plant and yeast cells. Here the yeast Saccharomyces cerevisiae was used as a model host to study the effect of CIRV p36 on cell survival and death. It was shown that p36 does not promote cell death, but decreases cell growth rate. In addition, p36 changed the nature of acetic acid-induced cell death in yeast by increasing the number of cells dying by necrosis with concomitant decrease of the number of cells dying by programmed cell death, as judged by measurements of phosphatidylserine externalization. The tight association of p36 to membranes was not affected by acetic acid treatment, thus confirming the peculiar and independent interaction of CIRV p36 with mitochondria in yeast. This work proved yeast as an invaluable model organism to study both the mitochondrial determinants of the type of cell death in response to stress and the molecular pathogenesis of (+)RNA viruses. (C) 2016 Elsevier Ireland Ltd. All rights reserved.                                                                                                                                                                                                                                                                                                                                                                                                                                                                                                                                                                                                                                                                                                                         |\n",
            "|1,2-Dichloropropane (1,2-DCP) and dichloromethane (DCM) are possible causative agents associated with the development of cholangiocarcinoma in employees working in printing plant in Osaka, Japan. However, few reports have demonstrated an association between these agents and cholangiocarcinoma in rodent carcinogenicity studies. Moreover, the combined effects of these compounds have not been fully elucidated. In the present study, we evaluated the in vivo mutagenicity of 1,2-DCP and DCM, alone or combined, in the livers of gpt delta rats. Six-week-old male F344 gpt delta rats were treated with 1,2-DCP, DCM or 1,2-DCP+DCM by oral administration for 4weeks at the dose (200mgkg(-1) body weight 1,2-DCP and 500mgkg(-1) body weight DCM) used in the carcinogenesis study performed by the National Toxicology Program. In vivo mutagenicity was analyzed by gpt mutation/Spi(-) assays in the livers of rats. In addition, gene and protein expression of CYP2E1 and GSTT1, the major enzymes responsible for the genotoxic effects of 1,2-DCP and DCM, were analyzed by quantitative polymerase chain reaction and western blotting. Gpt and Spi(-) mutation frequencies were not increased by 1,2-DCP and/or DCM in any group. Additionally, there were no significant changes in the gene and protein expression of CYP2E1 and GSTT1 in any group. These results indicated that 1,2-DCP, DCM and 1,2-DCP+DCM had no significant impact on mutagenicity in the livers of gpt delta rats under our experimental conditions. Copyright (c) 2016 John Wiley & Sons, Ltd.                                                                                                                                                                                                                                                                                                                                                                                                                                                                                                    |\n",
            "|This paper presents the simulation results of a linear, fully integrated, two-stage digitally programmable 130 nm CMOS power amplifier (PA) operating at 2.4 GHz. Its power stage is composed of a set of amplifying cells which can be enabled or disabled independently by a digital control circuit. All seven operational modes are univocal in terms of 1 dB output compression point (OCP1dB), saturated output power (P-SAT) and power gain at 2.4 GHz. The lowest power mode achieves an 8.1 dBm P-SAT, a 13.5 dB power gain and consumes 171 mW DC power (P-DC) at an OCP1dB of 6 dBm, whereas the highest power mode reaches an 18.9 dBm P-SAT and a 21.1 dB power gain and consumes 415 mW P-DC at an OCP1dB of 18.2 dBm.                                                                                                                                                                                                                                                                                                                                                                                                                                                                                                                                                                                                                                                                                                                                                                                                                                                                                                                                                                                                                                                                                                                                                                                                                                                                                                                                                                  |\n",
            "+------------------------------------------------------------------------------------------------------------------------------------------------------------------------------------------------------------------------------------------------------------------------------------------------------------------------------------------------------------------------------------------------------------------------------------------------------------------------------------------------------------------------------------------------------------------------------------------------------------------------------------------------------------------------------------------------------------------------------------------------------------------------------------------------------------------------------------------------------------------------------------------------------------------------------------------------------------------------------------------------------------------------------------------------------------------------------------------------------------------------------------------------------------------------------------------------------------------------------------------------------------------------------------------------------------------------------------------------------------------------------------------------------------------------------------------------------------------------------------------------------------------------------------------------------------------------------------------------------------------------------------------------------------------------------------------------------------------------------------------------------------------------------------------------------------------------------------------------------------------------------------------------------------------------------------------------------------------------------------------------------------------------------------------------------------------------------------------------------+\n",
            "only showing top 5 rows\n",
            "\n"
          ]
        }
      ],
      "source": [
        "documents.show(5, truncate = False)"
      ]
    },
    {
      "cell_type": "code",
      "execution_count": null,
      "metadata": {
        "id": "9iv-ml8B5MNl"
      },
      "outputs": [],
      "source": [
        "large_data_minhash_LSH = LargDataMinHashLSH(documents)\n",
        "large_data_minhash_LSH.run()"
      ]
    },
    {
      "cell_type": "code",
      "execution_count": null,
      "metadata": {
        "colab": {
          "base_uri": "https://localhost:8080/"
        },
        "id": "QVQm0vZ55TIt",
        "outputId": "1be8ef64-72b3-402d-9f46-848a76d5172d"
      },
      "outputs": [
        {
          "name": "stdout",
          "output_type": "stream",
          "text": [
            "+--------------------+------------------+\n",
            "|            document|jaccard_similarity|\n",
            "+--------------------+------------------+\n",
            "|Many recent publi...|               1.0|\n",
            "|The integration o...|              0.66|\n",
            "|Six different com...|              0.65|\n",
            "|Protein-protein i...|              0.64|\n",
            "|Quantitative PCR(...|              0.64|\n",
            "+--------------------+------------------+\n",
            "\n"
          ]
        }
      ],
      "source": [
        "query_document = \"Many recent publications highlight the large role of the pivotal eukaryotic nuclear export protein exportin-1 (XPO1) in the oncogenesis of several malignancies, and there is emerging evidence that XPO1 inhibition is a key target against cancer. The clinical validation of the pharmacological inhibition of XPO1 was recently achieved with the development of the selective inhibitor of nuclear export compounds, displaying an interesting anti-tumor activity in patients with massive pre-treated hematological malignancies. Recent reports have shown molecular alterations in the gene encoding XPO1 and showed a mutation hotspot (E571K) in the following two hematological malignancies with similar phenotypes and natural histories: primary mediastinal diffuse large B cell lymphoma and classical Hodgkin's lymphoma. Emerging evidence suggests that the mutant XPO1 E571K plays a role in carcinogenesis, and this variant is quantifiable in tumor and plasma cell-free DNA of patients using highly sensitive molecular biology techniques, such as digital PCR and next-generation sequencing. Therefore, it was proposed that the XPO1 E571K variant may serve as a minimal residual disease tool in this setting. To clarify and summarize the recent findings on the role of XPO1 in B cell hematological malignancies, we conducted a literature search to present the major publications establishing the landscape of XPO1 molecular alterations, their impact on the XPO1 protein, their interest as biomarkers, and investigations into the development of new XPO1-targeted therapies in B cell hematological malignancies.\"\n",
        "df_with_similarity = large_data_minhash_LSH.approxNearestNeighbors(query_document, 5)"
      ]
    },
    {
      "cell_type": "code",
      "execution_count": null,
      "metadata": {
        "colab": {
          "base_uri": "https://localhost:8080/"
        },
        "id": "SFUO0GZQdktt",
        "outputId": "417a2d90-e300-41b2-f78f-64d5060ce0fd"
      },
      "outputs": [
        {
          "name": "stdout",
          "output_type": "stream",
          "text": [
            "+--------------------+------------------+\n",
            "|            document|jaccard_similarity|\n",
            "+--------------------+------------------+\n",
            "|Background: (-)-a...|              0.84|\n",
            "|3D printing has s...|               0.6|\n",
            "+--------------------+------------------+\n",
            "\n"
          ]
        }
      ],
      "source": [
        "query_1 = \"Background: (-)-alpha-Bisabolol, also known as levomenol, is an unsaturated sesquiterpene alcohol that has mainly been used in pharmaceutical and cosmetic products due to its anti-inflammatory and skin-soothing properties. (-)-alpha-Bisabolol is currently manufactured mainly by steam-distillation of the essential oils extracted from the Brazilian candeia tree that is under threat because its natural habitat is constantly shrinking. Therefore, microbial production of (-)-alpha-bisabolol plays a key role in the development of its sustainable production from renewable feedstock. Results: Here, we created an Escherichia coli strain producing (-)-alpha-bisabolol at high titer and developed an in situ extraction method of (-)-alpha-bisabolol, using natural vegetable oils. We expressed a recently identified (-)-alpha-bisabolol synthase isolated from German chamomile (Matricaria recutita) (titer: 3 mg/L), converted the acetyl-CoA to mevalonate, using the biosynthetic mevalonate pathway (12.8 mg/L), and overexpressed farnesyl diphosphate synthase to efficiently supply the (-)-alpha-bisabolol precursor farnesyl diphosphate. Combinatorial expression of the exogenous mevalonate pathway and farnesyl diphosphate synthase enabled a dramatic increase in (-)-alpha-bisabolol production in the shake flask culture (80 mg/L) and 5 L bioreactor culture (342 mg/L) of engineered E. coli harboring (-)-alpha-bisabolol synthase. Fed-batch fermentation using a 50 L fermenter was conducted after optimizing culture conditions, resulting in efficient (-)-alpha-bisabolol production with a titer of 9.1 g/L. Moreover, a green, downstream extraction process using vegetable oils was developed for in situ extraction of (-)-alpha-bisabolol during fermentation and showed high yield recovery (>98%). Conclusions: The engineered E. coli strains and economically viable extraction process developed in this study will serve as promising platforms for further development of microbial production of (-)-alpha-bisabolol at large scale.\"\n",
        "query_20 = \"3D printing has shown promise for neural regeneration by providing customized nerve scaffolds to structurally support and bridge the defect gap as well as deliver cells or various bioactive substances. Low-level light therapy (LLLT) exhibits positive effects on rehabiliation of degenerative nerves and neural disorders. With this in mind, we postulate that 3D printed neural scaffold coupling with LLLT will generate a new strategy to repair neural degeneration. To achieve this goal, we applied red laser light to stimualte neural stem cells on 3D printed scaffolds and investigated the subsequent cell response with respect to cell proliferation and differentiation. Here we show that cell prolifeartion rate and intracellular reactive oxgen species synthesis were significantly increased after 15 s laser stimulation follwed by 1 d culture. Over culturing time of 14 d in vitro, the laser stimulation promoted neuronal differentiation of neural stem cells, while the glial differentiation was suppressed based on results of both immunocytochemistry studies and real-time quantitative reverse transcription polymerase chain reaction testing. These findings suggest that integration of 3D printing and LLLT might provide a powerful methodology for neural tissue engineering.\"\n",
        "key = query_1+query_20\n",
        "df_with_similarity = large_data_minhash_LSH.approxNearestNeighbors(key, 3)"
      ]
    }
  ],
  "metadata": {
    "colab": {
      "provenance": []
    },
    "kernelspec": {
      "display_name": "Python 3",
      "name": "python3"
    },
    "language_info": {
      "name": "python"
    }
  },
  "nbformat": 4,
  "nbformat_minor": 0
}
